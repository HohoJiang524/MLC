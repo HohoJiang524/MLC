{
 "cells": [
  {
   "cell_type": "code",
   "execution_count": 3,
   "metadata": {},
   "outputs": [],
   "source": [
    "from sklearn.preprocessing import MinMaxScaler\n",
    "import pandas as pd\n",
    "import os"
   ]
  },
  {
   "cell_type": "code",
   "execution_count": 9,
   "metadata": {},
   "outputs": [
    {
     "name": "stdout",
     "output_type": "stream",
     "text": [
      "yeast\n",
      "emotions\n",
      "scene\n",
      "enron\n",
      "genbase\n",
      "medical\n",
      "tmc2007\n",
      "rcv1subset1\n",
      "rcv1subset2\n",
      "rcv1subset3\n",
      "rcv1subset4\n",
      "rcv1subset5\n"
     ]
    }
   ],
   "source": [
    "data_list = [\"yeast\",\"emotions\",\"scene\",\"enron\",\"genbase\",\"medical\", \n",
    "             'tmc2007','rcv1subset1','rcv1subset2',\n",
    "             'rcv1subset3','rcv1subset4','rcv1subset5']\n",
    "\n",
    "for dataset in data_list:\n",
    "    print(dataset)\n",
    "    dataPath = '../data/' + dataset + \"/\"\n",
    "    X_file = \"X.csv\"\n",
    "    y_file = \"y.csv\"\n",
    "    data = pd.read_csv(os.path.join(dataPath, X_file))\n",
    "    \n",
    "    scaler = MinMaxScaler()\n",
    "    scaler.fit(data)\n",
    "    data2 = scaler.transform(data)\n",
    "    data2 = pd.DataFrame(data2, columns=data.columns, index=data.index)\n",
    "    \n",
    "    data2.to_csv(os.path.join(dataPath, \"X_scale.csv\"),index=False)"
   ]
  }
 ],
 "metadata": {
  "kernelspec": {
   "display_name": "Local",
   "language": "python",
   "name": "local"
  },
  "language_info": {
   "codemirror_mode": {
    "name": "ipython",
    "version": 3
   },
   "file_extension": ".py",
   "mimetype": "text/x-python",
   "name": "python",
   "nbconvert_exporter": "python",
   "pygments_lexer": "ipython3",
   "version": "3.6.2"
  },
  "toc": {
   "base_numbering": 1,
   "nav_menu": {},
   "number_sections": true,
   "sideBar": true,
   "skip_h1_title": false,
   "title_cell": "Table of Contents",
   "title_sidebar": "Contents",
   "toc_cell": false,
   "toc_position": {},
   "toc_section_display": true,
   "toc_window_display": false
  }
 },
 "nbformat": 4,
 "nbformat_minor": 2
}
