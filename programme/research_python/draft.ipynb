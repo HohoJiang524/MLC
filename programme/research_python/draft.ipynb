{
 "cells": [
  {
   "cell_type": "code",
   "execution_count": 56,
   "metadata": {},
   "outputs": [],
   "source": [
    "import pandas as pd\n",
    "import arff\n",
    "import os"
   ]
  },
  {
   "cell_type": "code",
   "execution_count": 60,
   "metadata": {},
   "outputs": [],
   "source": [
    "def arff2csv(filePath):\n",
    "    # read arff\n",
    "    with open(filePath, 'r') as f:\n",
    "        obj = arff.load(f)\n",
    "        print(\"... working on\", filePath,'...')\n",
    "    data = obj['data']\n",
    "    #relation = obj['relation']\n",
    "    #description = obj['description']\n",
    "    \n",
    "    # get column names\n",
    "    column_name = list(map(lambda x:x[0],obj['attributes']))\n",
    "    \n",
    "    # write data to csv file\n",
    "    filePath = filePath[:-4]+'csv'\n",
    "    \n",
    "    df = pd.DataFrame(data, columns=column_name)\n",
    "    \n",
    "    df.to_csv(filePath, index=False)\n",
    "    #print(\"... file is created as\",filePath,'...')\n",
    "    return df\n",
    "\n",
    "    \n",
    "    "
   ]
  },
  {
   "cell_type": "code",
   "execution_count": 54,
   "metadata": {},
   "outputs": [
    {
     "name": "stdout",
     "output_type": "stream",
     "text": [
      "... working on /Users/jiangjunhao/Desktop/ESKDB_HDP/data/small_datasets/emotions/emotions.arff ...\n",
      "... file is created as /Users/jiangjunhao/Desktop/ESKDB_HDP/data/small_datasets/emotions/emotions.csv ...\n"
     ]
    }
   ],
   "source": [
    "arff_file = r'/Users/jiangjunhao/Desktop/ESKDB_HDP/data/small_datasets/'\n",
    "for "
   ]
  },
  {
   "cell_type": "code",
   "execution_count": 42,
   "metadata": {},
   "outputs": [
    {
     "data": {
      "text/plain": [
       "(593, 78)"
      ]
     },
     "execution_count": 42,
     "metadata": {},
     "output_type": "execute_result"
    }
   ],
   "source": [
    "df.shape"
   ]
  },
  {
   "cell_type": "code",
   "execution_count": 74,
   "metadata": {},
   "outputs": [
    {
     "name": "stdout",
     "output_type": "stream",
     "text": [
      "\n",
      ".. open dir /Users/jiangjunhao/Desktop/ESKDB_HDP/data/small_datasets/genbase ..\n",
      "... working on /Users/jiangjunhao/Desktop/ESKDB_HDP/data/small_datasets/genbase/genbase-test.arff ...\n",
      "... working on /Users/jiangjunhao/Desktop/ESKDB_HDP/data/small_datasets/genbase/genbase-train.arff ...\n",
      "... working on /Users/jiangjunhao/Desktop/ESKDB_HDP/data/small_datasets/genbase/genbase.arff ...\n",
      "\n",
      ".. open dir /Users/jiangjunhao/Desktop/ESKDB_HDP/data/small_datasets/medical ..\n",
      "... working on /Users/jiangjunhao/Desktop/ESKDB_HDP/data/small_datasets/medical/medical-train.arff ...\n",
      "... working on /Users/jiangjunhao/Desktop/ESKDB_HDP/data/small_datasets/medical/medical-test.arff ...\n",
      "... working on /Users/jiangjunhao/Desktop/ESKDB_HDP/data/small_datasets/medical/medical.arff ...\n",
      "\n",
      ".. open dir /Users/jiangjunhao/Desktop/ESKDB_HDP/data/small_datasets/scene ..\n",
      "... working on /Users/jiangjunhao/Desktop/ESKDB_HDP/data/small_datasets/scene/scene.arff ...\n",
      "... working on /Users/jiangjunhao/Desktop/ESKDB_HDP/data/small_datasets/scene/scene-train.arff ...\n",
      "... working on /Users/jiangjunhao/Desktop/ESKDB_HDP/data/small_datasets/scene/scene-test.arff ...\n",
      "\n",
      ".. open dir /Users/jiangjunhao/Desktop/ESKDB_HDP/data/small_datasets/yeast ..\n",
      "... working on /Users/jiangjunhao/Desktop/ESKDB_HDP/data/small_datasets/yeast/yeast-train.arff ...\n",
      "... working on /Users/jiangjunhao/Desktop/ESKDB_HDP/data/small_datasets/yeast/yeast-test.arff ...\n",
      "... working on /Users/jiangjunhao/Desktop/ESKDB_HDP/data/small_datasets/yeast/yeast.arff ...\n",
      "\n",
      ".. open dir /Users/jiangjunhao/Desktop/ESKDB_HDP/data/small_datasets/enron ..\n",
      "... working on /Users/jiangjunhao/Desktop/ESKDB_HDP/data/small_datasets/enron/enron.arff ...\n",
      "... working on /Users/jiangjunhao/Desktop/ESKDB_HDP/data/small_datasets/enron/enron-test.arff ...\n",
      "... working on /Users/jiangjunhao/Desktop/ESKDB_HDP/data/small_datasets/enron/enron-train.arff ...\n",
      "\n",
      ".. open dir /Users/jiangjunhao/Desktop/ESKDB_HDP/data/small_datasets/emotions ..\n",
      "... working on /Users/jiangjunhao/Desktop/ESKDB_HDP/data/small_datasets/emotions/emotions-train.arff ...\n",
      "... working on /Users/jiangjunhao/Desktop/ESKDB_HDP/data/small_datasets/emotions/emotions.arff ...\n",
      "... working on /Users/jiangjunhao/Desktop/ESKDB_HDP/data/small_datasets/emotions/emotions-test.arff ...\n"
     ]
    }
   ],
   "source": [
    "path = r'/Users/jiangjunhao/Desktop/ESKDB_HDP/data/small_datasets/'  # directory\n",
    "\n",
    "def convert_all_arff(path):\n",
    "    for file in os.listdir(path):\n",
    "        if file[-4:]=='arff':\n",
    "            arff2csv(os.path.join(path,file))\n",
    "            \n",
    "        elif os.path.isdir(os.path.join(path,file)):\n",
    "            print('\\n.. open dir',os.path.join(path,file),'..')\n",
    "            convert_all_arff(os.path.join(path,file))\n",
    "\n",
    "convert_all_arff(path)"
   ]
  },
  {
   "cell_type": "code",
   "execution_count": null,
   "metadata": {},
   "outputs": [],
   "source": []
  }
 ],
 "metadata": {
  "kernelspec": {
   "display_name": "Python 3",
   "language": "python",
   "name": "python3"
  },
  "language_info": {
   "codemirror_mode": {
    "name": "ipython",
    "version": 3
   },
   "file_extension": ".py",
   "mimetype": "text/x-python",
   "name": "python",
   "nbconvert_exporter": "python",
   "pygments_lexer": "ipython3",
   "version": "3.6.4"
  }
 },
 "nbformat": 4,
 "nbformat_minor": 2
}
