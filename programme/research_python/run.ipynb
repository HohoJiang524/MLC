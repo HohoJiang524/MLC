{
 "cells": [
  {
   "cell_type": "code",
   "execution_count": 2,
   "metadata": {},
   "outputs": [],
   "source": [
    "import subprocess"
   ]
  },
  {
   "cell_type": "code",
   "execution_count": 5,
   "metadata": {},
   "outputs": [],
   "source": [
    "def run_eskdb(dataPath, resultFile, k, l, e, i):\n",
    "    command = \"./run_eskdb.sh \"+resultFile+\" \"+k+\" \"+i+\" \"+l+\" \"+e+\" \"+dataPath\n",
    "    subprocess.call(\"cd /Volumes/Samsung_T5/research/programme/research_python/\", shell=True)\n",
    "    print(command)\n",
    "    return subprocess.call(command, shell=True)"
   ]
  },
  {
   "cell_type": "code",
   "execution_count": 6,
   "metadata": {},
   "outputs": [
    {
     "name": "stdout",
     "output_type": "stream",
     "text": [
      "./run_eskdb.sh medical 5 5000 2 5 /Volumes/Samsung_T5/research/data/small_datasets/medical/arff_files/\n"
     ]
    },
    {
     "data": {
      "text/plain": [
       "0"
      ]
     },
     "execution_count": 6,
     "metadata": {},
     "output_type": "execute_result"
    }
   ],
   "source": [
    "# medical\n",
    "dataPath = '/Volumes/Samsung_T5/research/data/small_datasets/medical/arff_files/'\n",
    "resultFile = 'medical'\n",
    "k = '5'\n",
    "i = '5000'\n",
    "l = '2'\n",
    "e = '5'\n",
    "run_eskdb(dataPath, resultFile, k, l, e, i)"
   ]
  },
  {
   "cell_type": "code",
   "execution_count": 7,
   "metadata": {},
   "outputs": [
    {
     "name": "stdout",
     "output_type": "stream",
     "text": [
      "./run_eskdb.sh obesity_k5_e5 5 5000 2 5 /Volumes/Samsung_T5/research/data/ABC_news_data/obesity/all_label/\n"
     ]
    },
    {
     "data": {
      "text/plain": [
       "0"
      ]
     },
     "execution_count": 7,
     "metadata": {},
     "output_type": "execute_result"
    }
   ],
   "source": [
    "# obesity\n",
    "dataPath = '/Volumes/Samsung_T5/research/data/ABC_news_data/obesity/all_label/'\n",
    "resultFile = 'obesity_k5_e5'\n",
    "k = '5'\n",
    "i = '5000'\n",
    "l = '2'\n",
    "e = '5'\n",
    "\n",
    "run_eskdb(dataPath, resultFile, k, l, e, i)"
   ]
  },
  {
   "cell_type": "code",
   "execution_count": 8,
   "metadata": {},
   "outputs": [
    {
     "name": "stdout",
     "output_type": "stream",
     "text": [
      "./run_eskdb.sh test 5 1000 2 2 /Volumes/Samsung_T5/research/data/ABC_news_data/obesity/all_label/\n"
     ]
    },
    {
     "data": {
      "text/plain": [
       "0"
      ]
     },
     "execution_count": 8,
     "metadata": {},
     "output_type": "execute_result"
    }
   ],
   "source": [
    "# test \n",
    "dataPath = '/Volumes/Samsung_T5/research/data/ABC_news_data/obesity/all_label/'\n",
    "resultFile = 'test'\n",
    "k = '5'\n",
    "i = '1000'\n",
    "l = '2'\n",
    "e = '2'\n",
    "\n",
    "run_eskdb(dataPath, resultFile, k, l, e, i)"
   ]
  },
  {
   "cell_type": "code",
   "execution_count": null,
   "metadata": {},
   "outputs": [],
   "source": []
  }
 ],
 "metadata": {
  "kernelspec": {
   "display_name": "Python 3",
   "language": "python",
   "name": "python3"
  },
  "language_info": {
   "codemirror_mode": {
    "name": "ipython",
    "version": 3
   },
   "file_extension": ".py",
   "mimetype": "text/x-python",
   "name": "python",
   "nbconvert_exporter": "python",
   "pygments_lexer": "ipython3",
   "version": "3.6.4"
  },
  "toc": {
   "base_numbering": 1,
   "nav_menu": {},
   "number_sections": true,
   "sideBar": true,
   "skip_h1_title": false,
   "title_cell": "Table of Contents",
   "title_sidebar": "Contents",
   "toc_cell": false,
   "toc_position": {},
   "toc_section_display": true,
   "toc_window_display": false
  }
 },
 "nbformat": 4,
 "nbformat_minor": 2
}
