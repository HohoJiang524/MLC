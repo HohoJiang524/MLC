{
 "cells": [
  {
   "cell_type": "code",
   "execution_count": 26,
   "metadata": {},
   "outputs": [],
   "source": [
    "import pandas as pd\n",
    "import numpy as np\n",
    "import os"
   ]
  },
  {
   "cell_type": "code",
   "execution_count": 27,
   "metadata": {},
   "outputs": [],
   "source": [
    "resultPath = \"/Users/jiangjunhao/Desktop/results_algorithms/\""
   ]
  },
  {
   "cell_type": "code",
   "execution_count": 3,
   "metadata": {},
   "outputs": [
    {
     "name": "stdout",
     "output_type": "stream",
     "text": [
      ".DS_Store\n",
      "LEAD_naive_bayes.csv\n",
      "BayesianClassifierChain_largest_edges.csv\n",
      "BayesianClassifierChain_naive_bayes.csv\n",
      "BayesianClassifierChain_best_prediction.csv\n",
      "twofold\n",
      "compare\n",
      "ClassifierChain_naive_bayes.csv\n",
      "binary_relevance_naive_bayes.csv\n",
      "EnsembleClassifierChain_naive_bayes.csv\n"
     ]
    }
   ],
   "source": [
    "for f in os.listdir(resultPath):\n",
    "    print(f)"
   ]
  },
  {
   "cell_type": "markdown",
   "metadata": {},
   "source": [
    "# two fold"
   ]
  },
  {
   "cell_type": "markdown",
   "metadata": {},
   "source": [
    "## algorithms"
   ]
  },
  {
   "cell_type": "code",
   "execution_count": 33,
   "metadata": {},
   "outputs": [],
   "source": [
    "resultPath_twofold = \"/Users/jiangjunhao/Desktop/results_algorithms/twofold/\"\n",
    "df = pd.DataFrame()\n",
    "file_list = [\"ClassifierChain_naive_bayes.csv\",\n",
    "             \"EnsembleClassifierChain_naive_bayes.csv\",\n",
    "             \"BayesianClassifierChain_naive_bayes.csv\"]\n",
    "for f in file_list:\n",
    "    r = pd.read_csv(os.path.join(resultPath_twofold,f),index_col=0)\n",
    "    r = pd.melt(r.reset_index(), id_vars=\"index\",value_vars=r.columns,var_name=\"dataset\",value_name=f[:-4])\n",
    "    df = pd.concat([df,r],axis=1)\n",
    "df = df.loc[:,~df.columns.duplicated()]\n",
    "df.set_index([\"index\",\"dataset\"],inplace=True)\n",
    "df.sort_index(inplace=True)\n",
    "\n",
    "a = df.loc[[\"Jaccard_Index\",\"f1_macro\",\"f1_micro\"],:]\n",
    "b = a.rank(ascending=False, method='min',axis=1)\n",
    "c_1 = pd.DataFrame(b, columns=a.columns, index=a.index)\n",
    "a = df.loc[[\"coverage_error\",\"hamming_loss\",\"ranking_loss\",\"zero_one_error\"],:]\n",
    "b = a.rank(ascending=True, method='min',axis=1)\n",
    "c_2 = pd.DataFrame(b, columns=a.columns, index=a.index)\n",
    "c = pd.concat([c_1,c_2],axis=0)\n",
    "df_final = pd.concat([df, c],axis=1)\n",
    "\n",
    "df_final.to_csv(os.path.join(resultPath+\"/compare/\",\"algorithm_NB.csv\"))"
   ]
  },
  {
   "cell_type": "markdown",
   "metadata": {},
   "source": [
    "## orders"
   ]
  },
  {
   "cell_type": "code",
   "execution_count": 30,
   "metadata": {},
   "outputs": [],
   "source": [
    "resultPath_twofold = \"/Users/jiangjunhao/Desktop/results_algorithms/twofold/\"\n",
    "df = pd.DataFrame()\n",
    "file_list = [\"BayesianClassifierChain_naive_bayes.csv\", \"BayesianClassifierChain_largest_edges.csv\",\"BayesianClassifierChain_best_prediction.csv\"]\n",
    "\n",
    "for f in file_list:\n",
    "    r = pd.read_csv(os.path.join(resultPath_twofold,f),index_col=0)\n",
    "    r = pd.melt(r.reset_index(), id_vars=\"index\",value_vars=r.columns,var_name=\"dataset\",value_name=f[:-4])\n",
    "    df = pd.concat([df,r],axis=1)\n",
    "df = df.loc[:,~df.columns.duplicated()]\n",
    "df.set_index([\"index\",\"dataset\"],inplace=True)\n",
    "df.sort_index(inplace=True)\n",
    "\n",
    "a = df.loc[[\"Jaccard_Index\",\"f1_macro\",\"f1_micro\"],:]\n",
    "b = a.rank(ascending=False, method='min',axis=1)\n",
    "c_1 = pd.DataFrame(b, columns=a.columns, index=a.index)\n",
    "a = df.loc[[\"coverage_error\",\"hamming_loss\",\"ranking_loss\",\"zero_one_error\"],:]\n",
    "b = a.rank(ascending=True, method='min',axis=1)\n",
    "c_2 = pd.DataFrame(b, columns=a.columns, index=a.index)\n",
    "c = pd.concat([c_1,c_2],axis=0)\n",
    "df_final = pd.concat([df, c],axis=1)\n",
    "\n",
    "df_final.to_csv(os.path.join(resultPath+\"/compare/\",\"order_twofold.csv\"))"
   ]
  },
  {
   "cell_type": "markdown",
   "metadata": {},
   "source": [
    "## different structures"
   ]
  },
  {
   "cell_type": "code",
   "execution_count": null,
   "metadata": {},
   "outputs": [],
   "source": [
    "resultPath_twofold = \"/Users/jiangjunhao/Desktop/results_algorithms/twofold/\"\n",
    "for f in os.listdir(resultPath_twofold):\n",
    "    print(f)"
   ]
  },
  {
   "cell_type": "code",
   "execution_count": 28,
   "metadata": {},
   "outputs": [],
   "source": [
    "resultPath_twofold = \"/Users/jiangjunhao/Desktop/results_algorithms/twofold/\"\n",
    "df = pd.DataFrame()\n",
    "file_list = [\"ClassifierChain_naive_bayes.csv\", \"BCC_tree.csv\",\"BayesianClassifierChain_naive_bayes.csv\"]\n",
    "for f in file_list:\n",
    "    r = pd.read_csv(os.path.join(resultPath_twofold,f),index_col=0)\n",
    "    r = pd.melt(r.reset_index(), id_vars=\"index\",value_vars=r.columns,var_name=\"dataset\",value_name=f[:-4])\n",
    "    df = pd.concat([df,r],axis=1)\n",
    "df = df.loc[:,~df.columns.duplicated()]\n",
    "df.set_index([\"index\",\"dataset\"],inplace=True)\n",
    "df.sort_index(inplace=True)\n",
    "\n",
    "a = df.loc[[\"Jaccard_Index\",\"f1_macro\",\"f1_micro\"],:]\n",
    "b = a.rank(ascending=False, method='min',axis=1)\n",
    "c_1 = pd.DataFrame(b, columns=a.columns, index=a.index)\n",
    "a = df.loc[[\"coverage_error\",\"hamming_loss\",\"ranking_loss\",\"zero_one_error\"],:]\n",
    "b = a.rank(ascending=True, method='min',axis=1)\n",
    "c_2 = pd.DataFrame(b, columns=a.columns, index=a.index)\n",
    "c = pd.concat([c_1,c_2],axis=0)\n",
    "df_final = pd.concat([df, c],axis=1)\n",
    "\n",
    "df_final.to_csv(os.path.join(resultPath+\"/compare/\",\"structure_twofold.csv\"))"
   ]
  },
  {
   "cell_type": "code",
   "execution_count": 7,
   "metadata": {},
   "outputs": [],
   "source": [
    "\n",
    "\n"
   ]
  }
 ],
 "metadata": {
  "kernelspec": {
   "display_name": "Python 3",
   "language": "python",
   "name": "python3"
  },
  "language_info": {
   "codemirror_mode": {
    "name": "ipython",
    "version": 3
   },
   "file_extension": ".py",
   "mimetype": "text/x-python",
   "name": "python",
   "nbconvert_exporter": "python",
   "pygments_lexer": "ipython3",
   "version": "3.6.2"
  },
  "toc": {
   "base_numbering": 1,
   "nav_menu": {},
   "number_sections": true,
   "sideBar": true,
   "skip_h1_title": false,
   "title_cell": "Table of Contents",
   "title_sidebar": "Contents",
   "toc_cell": false,
   "toc_position": {},
   "toc_section_display": true,
   "toc_window_display": false
  }
 },
 "nbformat": 4,
 "nbformat_minor": 2
}
