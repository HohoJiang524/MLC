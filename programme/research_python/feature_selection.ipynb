{
 "cells": [
  {
   "cell_type": "code",
   "execution_count": 28,
   "metadata": {},
   "outputs": [],
   "source": [
    "import arff\n",
    "import pandas as pd\n",
    "import numpy as np\n",
    "from bs4 import BeautifulSoup\n",
    "import os"
   ]
  },
  {
   "cell_type": "markdown",
   "metadata": {},
   "source": [
    "# Transfrom arff to csv"
   ]
  },
  {
   "cell_type": "code",
   "execution_count": 29,
   "metadata": {},
   "outputs": [],
   "source": [
    "def load_arff(arff_file, n_label):\n",
    "    with open(arff_file, 'r') as f:\n",
    "        obj = arff.load(f)\n",
    "        \n",
    "    data = obj['data']\n",
    "    attribute_list = [name[0] for name in obj['attributes']]\n",
    "\n",
    "    data_df = pd.DataFrame(data, columns=attribute_list)\n",
    "    return data_df\n",
    "\n",
    "def get_Xy(data, n_label):\n",
    "    y = data.iloc[:, -n_label:]\n",
    "    X = data.iloc[:, :-n_label]\n",
    "    \n",
    "    return X,y\n",
    "\n",
    "# get label\n",
    "def get_label(xml_file):\n",
    "    with open(xml_file, 'r') as f:\n",
    "        lines = f.read()\n",
    "        soup = BeautifulSoup(lines, 'lxml')\n",
    "        n_label = len(soup.find_all('label'))\n",
    "        \n",
    "        label_list = []\n",
    "        for label in soup.find_all('label'): \n",
    "            label_list.append(label.attrs['name'])\n",
    "        \n",
    "    return n_label, label_list"
   ]
  },
  {
   "cell_type": "code",
   "execution_count": 42,
   "metadata": {},
   "outputs": [],
   "source": [
    "fpath = \"/Volumes/Samsung_T5/research/data/large_datasets/\"\n",
    "dataset = 'rcv1subset1'\n",
    "n_label, label_list = get_label(fpath+dataset+\"/\"+dataset+\".xml\")\n",
    "df = load_arff(fpath+dataset+\"/\"+dataset+\".arff\", n_label)\n",
    "X,y = get_Xy(df, n_label)\n",
    "df.to_csv(fpath+dataset+\"/\"+dataset+\".csv\", index=False)\n",
    "X.to_csv(fpath+dataset+\"/\"+\"X.csv\", index=False)\n",
    "y.to_csv(fpath+dataset+\"/\"+\"y.csv\", index=False)"
   ]
  },
  {
   "cell_type": "code",
   "execution_count": 15,
   "metadata": {},
   "outputs": [],
   "source": [
    "for dataset in ['rcv1subset2','rcv1subset3','rcv1subset4','rcv1subset5','tmc2007','mediamill']:\n",
    "    fpath = \"/Volumes/Samsung_T5/research/data/large_datasets/\"\n",
    "    n_label, label_list = get_label(fpath+dataset+\"/\"+dataset+\".xml\")\n",
    "    df = load_arff(fpath+dataset+\"/\"+dataset+\".arff\", n_label)\n",
    "    X,y = get_Xy(df, n_label)\n",
    "\n",
    "    df.to_csv(fpath+dataset+\"/\"+dataset+\".csv\", index=False)\n",
    "    X.to_csv(fpath+dataset+\"/\"+\"X.csv\", index=False)\n",
    "    y.to_csv(fpath+dataset+\"/\"+\"y.csv\", index=False)"
   ]
  },
  {
   "cell_type": "markdown",
   "metadata": {},
   "source": [
    "# feature selection"
   ]
  },
  {
   "cell_type": "code",
   "execution_count": 73,
   "metadata": {},
   "outputs": [],
   "source": [
    "def read_data(dataPath):\n",
    "    # input: '/Volumes/Samsung_T5/research/data/ABC_news_data/obesity/'\n",
    "    # read data\n",
    "    data = pd.read_csv(os.path.join(dataPath,'X.csv'))\n",
    "    label = pd.read_csv(os.path.join(dataPath,'y.csv'))\n",
    "    return data,label"
   ]
  },
  {
   "cell_type": "code",
   "execution_count": 186,
   "metadata": {},
   "outputs": [],
   "source": [
    "from sklearn.feature_selection import SelectKBest\n",
    "from sklearn.feature_selection import chi2\n",
    "\n",
    "def feature_selection(data_path):\n",
    "    print(data_path)\n",
    "    X, y = read_data(data_path) # read data\n",
    "    print(X.shape)\n",
    "    print(y.shape)\n",
    "\n",
    "    selected_features = [] \n",
    "    for label in y.columns:\n",
    "        selector = SelectKBest(chi2, k='all')\n",
    "        selector.fit(X, y[label])\n",
    "        selected_features.append(list(selector.scores_))\n",
    "\n",
    "    # MeanCS \n",
    "    # selected_features = np.mean(selected_features, axis=0) > threshold\n",
    "    # MaxCS\n",
    "    numOfFeatures = 1500\n",
    "    a = np.array(selected_features)\n",
    "    a[np.isnan(a)] = 0\n",
    "    threshold = sorted(np.max(a, axis=0), reverse=True)[numOfFeatures]\n",
    "    selected_features_index = (np.max(a, axis=0) > threshold)\n",
    "\n",
    "    X_selected = X.loc[:,X.columns[selected_features_index]]\n",
    "    X_selected.to_csv(data_path+\"/\"+\"X_1500.csv\",index=False)\n",
    "    \n",
    "    "
   ]
  },
  {
   "cell_type": "code",
   "execution_count": 187,
   "metadata": {},
   "outputs": [
    {
     "name": "stdout",
     "output_type": "stream",
     "text": [
      "/Volumes/Samsung_T5/research/data/large_datasets/rcv1subset2\n",
      "(6000, 47236)\n",
      "(6000, 101)\n",
      "/Volumes/Samsung_T5/research/data/large_datasets/rcv1subset3\n",
      "(6000, 47236)\n",
      "(6000, 101)\n",
      "/Volumes/Samsung_T5/research/data/large_datasets/rcv1subset5\n",
      "(6000, 47235)\n",
      "(6000, 101)\n",
      "/Volumes/Samsung_T5/research/data/large_datasets/tmc2007\n",
      "(28596, 49060)\n",
      "(28596, 22)\n"
     ]
    }
   ],
   "source": [
    "fpath = \"/Volumes/Samsung_T5/research/data/large_datasets/\"\n",
    "for dataset in ['rcv1subset2','rcv1subset3','rcv1subset4','rcv1subset5','tmc2007']:\n",
    "    feature_selection(fpath+dataset)"
   ]
  },
  {
   "cell_type": "code",
   "execution_count": 188,
   "metadata": {},
   "outputs": [
    {
     "name": "stdout",
     "output_type": "stream",
     "text": [
      "/Volumes/Samsung_T5/research/data/large_datasets/rcv1subset4\n",
      "(6000, 47229)\n",
      "(6000, 101)\n"
     ]
    }
   ],
   "source": [
    "fpath = \"/Volumes/Samsung_T5/research/data/large_datasets/\"\n",
    "dataset = 'rcv1subset4'\n",
    "feature_selection(fpath+dataset)"
   ]
  },
  {
   "cell_type": "code",
   "execution_count": null,
   "metadata": {},
   "outputs": [],
   "source": []
  }
 ],
 "metadata": {
  "kernelspec": {
   "display_name": "Python 3",
   "language": "python",
   "name": "python3"
  },
  "language_info": {
   "codemirror_mode": {
    "name": "ipython",
    "version": 3
   },
   "file_extension": ".py",
   "mimetype": "text/x-python",
   "name": "python",
   "nbconvert_exporter": "python",
   "pygments_lexer": "ipython3",
   "version": "3.6.4"
  },
  "toc": {
   "base_numbering": 1,
   "nav_menu": {},
   "number_sections": true,
   "sideBar": true,
   "skip_h1_title": false,
   "title_cell": "Table of Contents",
   "title_sidebar": "Contents",
   "toc_cell": false,
   "toc_position": {},
   "toc_section_display": true,
   "toc_window_display": false
  }
 },
 "nbformat": 4,
 "nbformat_minor": 2
}
