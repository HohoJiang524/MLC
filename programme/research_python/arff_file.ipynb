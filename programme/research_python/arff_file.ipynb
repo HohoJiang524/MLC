{
 "cells": [
  {
   "cell_type": "code",
   "execution_count": 5,
   "metadata": {},
   "outputs": [],
   "source": [
    "import arff\n",
    "import pprint\n",
    "import pandas as pd"
   ]
  },
  {
   "cell_type": "markdown",
   "metadata": {},
   "source": [
    "# read arff "
   ]
  },
  {
   "cell_type": "code",
   "execution_count": 6,
   "metadata": {},
   "outputs": [
    {
     "ename": "AttributeError",
     "evalue": "module 'arff' has no attribute 'load'",
     "traceback": [
      "\u001b[0;31m---------------------------------------------------------------------------\u001b[0m",
      "\u001b[0;31mAttributeError\u001b[0m                            Traceback (most recent call last)",
      "\u001b[0;32m<ipython-input-6-bb59090f4c6b>\u001b[0m in \u001b[0;36m<module>\u001b[0;34m()\u001b[0m\n\u001b[0;32m----> 1\u001b[0;31m \u001b[0mfile\u001b[0m \u001b[0;34m=\u001b[0m \u001b[0marff\u001b[0m\u001b[0;34m.\u001b[0m\u001b[0mload\u001b[0m\u001b[0;34m(\u001b[0m\u001b[0mopen\u001b[0m\u001b[0;34m(\u001b[0m\u001b[0;34m'/Users/jiangjunhao/Desktop/ESKDB-master/data/adult.arff'\u001b[0m\u001b[0;34m,\u001b[0m \u001b[0;34m'r'\u001b[0m\u001b[0;34m)\u001b[0m\u001b[0;34m)\u001b[0m\u001b[0;34m\u001b[0m\u001b[0m\n\u001b[0m",
      "\u001b[0;31mAttributeError\u001b[0m: module 'arff' has no attribute 'load'"
     ],
     "output_type": "error"
    }
   ],
   "source": [
    "file = arff.load(open('/Users/jiangjunhao/Desktop/ESKDB-master/data/adult.arff', 'r'))"
   ]
  },
  {
   "cell_type": "code",
   "execution_count": 2,
   "metadata": {},
   "outputs": [],
   "source": [
    "#file['data']"
   ]
  },
  {
   "cell_type": "code",
   "execution_count": 7,
   "metadata": {},
   "outputs": [],
   "source": [
    "def load_arff(arff_file):\n",
    "    with open(arff_file, 'r') as f:\n",
    "        obj = arff.load(f)\n",
    "        \n",
    "    data = obj['data']\n",
    "\n",
    "    labels = [x[-1] for x in (x for x in data)]\n",
    "    data = np.array(data)\n",
    "    data = data[:,:-1]\n",
    "\n",
    "    return data, labels"
   ]
  },
  {
   "cell_type": "code",
   "execution_count": 8,
   "metadata": {},
   "outputs": [
    {
     "ename": "FileNotFoundError",
     "evalue": "[Errno 2] No such file or directory: '/Users/jiangjunhao/Desktop/ESKDB-master/data/adult.arff'",
     "traceback": [
      "\u001b[0;31m---------------------------------------------------------------------------\u001b[0m",
      "\u001b[0;31mFileNotFoundError\u001b[0m                         Traceback (most recent call last)",
      "\u001b[0;32m<ipython-input-8-04b8031c996f>\u001b[0m in \u001b[0;36m<module>\u001b[0;34m()\u001b[0m\n\u001b[0;32m----> 1\u001b[0;31m \u001b[0madult\u001b[0m \u001b[0;34m=\u001b[0m \u001b[0mload_arff\u001b[0m\u001b[0;34m(\u001b[0m\u001b[0;34m'/Users/jiangjunhao/Desktop/ESKDB-master/data/adult.arff'\u001b[0m\u001b[0;34m)\u001b[0m\u001b[0;34m\u001b[0m\u001b[0m\n\u001b[0m\u001b[1;32m      2\u001b[0m \u001b[0mdata\u001b[0m \u001b[0;34m=\u001b[0m \u001b[0madult\u001b[0m\u001b[0;34m[\u001b[0m\u001b[0;36m0\u001b[0m\u001b[0;34m]\u001b[0m\u001b[0;34m\u001b[0m\u001b[0m\n\u001b[1;32m      3\u001b[0m \u001b[0mlabels\u001b[0m \u001b[0;34m=\u001b[0m \u001b[0madult\u001b[0m\u001b[0;34m[\u001b[0m\u001b[0;36m1\u001b[0m\u001b[0;34m]\u001b[0m\u001b[0;34m\u001b[0m\u001b[0m\n\u001b[1;32m      4\u001b[0m \u001b[0;34m\u001b[0m\u001b[0m\n\u001b[1;32m      5\u001b[0m \u001b[0mdata_df\u001b[0m \u001b[0;34m=\u001b[0m \u001b[0mpd\u001b[0m\u001b[0;34m.\u001b[0m\u001b[0mDataFrame\u001b[0m\u001b[0;34m(\u001b[0m\u001b[0mdata\u001b[0m\u001b[0;34m)\u001b[0m\u001b[0;34m\u001b[0m\u001b[0m\n",
      "\u001b[0;32m<ipython-input-7-4c1cec4bea6f>\u001b[0m in \u001b[0;36mload_arff\u001b[0;34m(arff_file)\u001b[0m\n\u001b[1;32m      1\u001b[0m \u001b[0;32mdef\u001b[0m \u001b[0mload_arff\u001b[0m\u001b[0;34m(\u001b[0m\u001b[0marff_file\u001b[0m\u001b[0;34m)\u001b[0m\u001b[0;34m:\u001b[0m\u001b[0;34m\u001b[0m\u001b[0m\n\u001b[0;32m----> 2\u001b[0;31m     \u001b[0;32mwith\u001b[0m \u001b[0mopen\u001b[0m\u001b[0;34m(\u001b[0m\u001b[0marff_file\u001b[0m\u001b[0;34m,\u001b[0m \u001b[0;34m'r'\u001b[0m\u001b[0;34m)\u001b[0m \u001b[0;32mas\u001b[0m \u001b[0mf\u001b[0m\u001b[0;34m:\u001b[0m\u001b[0;34m\u001b[0m\u001b[0m\n\u001b[0m\u001b[1;32m      3\u001b[0m         \u001b[0mobj\u001b[0m \u001b[0;34m=\u001b[0m \u001b[0marff\u001b[0m\u001b[0;34m.\u001b[0m\u001b[0mload\u001b[0m\u001b[0;34m(\u001b[0m\u001b[0mf\u001b[0m\u001b[0;34m)\u001b[0m\u001b[0;34m\u001b[0m\u001b[0m\n\u001b[1;32m      4\u001b[0m \u001b[0;34m\u001b[0m\u001b[0m\n\u001b[1;32m      5\u001b[0m     \u001b[0mdata\u001b[0m \u001b[0;34m=\u001b[0m \u001b[0mobj\u001b[0m\u001b[0;34m[\u001b[0m\u001b[0;34m'data'\u001b[0m\u001b[0;34m]\u001b[0m\u001b[0;34m\u001b[0m\u001b[0m\n",
      "\u001b[0;31mFileNotFoundError\u001b[0m: [Errno 2] No such file or directory: '/Users/jiangjunhao/Desktop/ESKDB-master/data/adult.arff'"
     ],
     "output_type": "error"
    }
   ],
   "source": [
    "adult = load_arff('/Users/jiangjunhao/Desktop/ESKDB-master/data/adult.arff')\n",
    "data = adult[0]\n",
    "labels = adult[1]\n",
    "\n",
    "data_df = pd.DataFrame(data)\n",
    "#data_df"
   ]
  },
  {
   "cell_type": "markdown",
   "metadata": {},
   "source": [
    "# write arff"
   ]
  },
  {
   "cell_type": "code",
   "execution_count": null,
   "metadata": {},
   "outputs": [],
   "source": [
    "'''\n",
    "obj = {\n",
    "   'description': u'',\n",
    "   'relation': 'weather',\n",
    "   'attributes': [\n",
    "       ('outlook', ['sunny', 'overcast', 'rainy']),\n",
    "       ('temperature', 'REAL'),\n",
    "       ('humidity', 'REAL'),\n",
    "       ('windy', ['TRUE', 'FALSE']),\n",
    "       ('play', ['yes', 'no'])\n",
    "   ],\n",
    "   'data': [\n",
    "       ['sunny', 85.0, 85.0, 'FALSE', 'no'],\n",
    "       ['sunny', 80.0, 90.0, 'TRUE', 'no'],\n",
    "       ['overcast', 83.0, 86.0, 'FALSE', 'yes'],\n",
    "       ['rainy', 70.0, 96.0, 'FALSE', 'yes'],\n",
    "       ['rainy', 68.0, 80.0, 'FALSE', 'yes'],\n",
    "       ['rainy', 65.0, 70.0, 'TRUE', 'no'],\n",
    "       ['overcast', 64.0, 65.0, 'TRUE', 'yes'],\n",
    "       ['sunny', 72.0, 95.0, 'FALSE', 'no'],\n",
    "       ['sunny', 69.0, 70.0, 'FALSE', 'yes'],\n",
    "       ['rainy', 75.0, 80.0, 'FALSE', 'yes'],\n",
    "       ['sunny', 75.0, 70.0, 'TRUE', 'yes'],\n",
    "       ['overcast', 72.0, 90.0, 'TRUE', 'yes'],\n",
    "       ['overcast', 81.0, 75.0, 'FALSE', 'yes'],\n",
    "       ['rainy', 71.0, 91.0, 'TRUE', 'no']\n",
    "   ],\n",
    "}\n",
    "'''"
   ]
  },
  {
   "cell_type": "code",
   "execution_count": 1,
   "metadata": {},
   "outputs": [],
   "source": [
    "def convert_sample(sample):\n",
    "    # turn it into a list\n",
    "    sample_split = sample.split(' ')\n",
    "    \n",
    "    # the first element contains all labels\n",
    "    labels = set(sample_split[0].split(','))\n",
    "    attribute = list(map(lambda x:float(x.split(':')[1]),sample_split[1:]))\n",
    "    return labels,attribute\n",
    "\n",
    "def convert_label(label, sample):\n",
    "    convert_sam = convert_sample(sample)\n",
    "    labels = convert_sam[0]\n",
    "    attributes = convert_sam[1]\n",
    "    if label in labels:\n",
    "        attributes.append(1)\n",
    "        return attributes\n",
    "    else:\n",
    "        attributes.append(0)\n",
    "        return attributes\n",
    "\n",
    "def convert_arff(label):\n",
    "    data = []\n",
    "    i = 1\n",
    "    while i < len(f_list):\n",
    "        data.append(convert_label(label,f_list[i])) \n",
    "        i+=1\n",
    "    \n",
    "    # set attributes \n",
    "    attributes=[('attr'+str(i),'REAL') for i in range(120)]\n",
    "    attributes.append(('label',['1', '0']))\n",
    "    \n",
    "    # set obj\n",
    "    obj = {\n",
    "       'description': u'',\n",
    "       'relation': label+'_relation',\n",
    "       'attributes': attributes,\n",
    "       'data': data,\n",
    "    }\n",
    "    return arff.dumps(obj)"
   ]
  },
  {
   "cell_type": "code",
   "execution_count": 11,
   "metadata": {},
   "outputs": [],
   "source": [
    "file = r'/Users/jiangjunhao/Desktop/research/data_sets/Mediamill/Mediamill_data.txt'\n",
    "with open(file,'r') as f:\n",
    "    f_list = f.readlines()\n",
    "    \n",
    "# write to the file\n",
    "for i in range(101):\n",
    "    w_file = open(str(i)+\".arff\", \"w\")\n",
    "    w_file.write(convert_arff(str(i)))\n",
    "    w_file.close()"
   ]
  },
  {
   "cell_type": "code",
   "execution_count": 110,
   "metadata": {},
   "outputs": [
    {
     "data": {
      "text/plain": [
       "'@RELATION '"
      ]
     },
     "execution_count": 110,
     "metadata": {},
     "output_type": "execute_result"
    }
   ],
   "source": [
    "\"\"\"\n",
    "file = r'/Users/jiangjunhao/Desktop/research/data_sets/Mediamill/Mediamill_data.txt'\n",
    "with open(file,'r') as f:\n",
    "    data = []\n",
    "    f_list = f.readlines()\n",
    "    label = 0\n",
    "    i = 1\n",
    "    while i < len(f_list):\n",
    "        data.append(convert_label('1',f_list[i])) \n",
    "        i+=1\n",
    "        \n",
    "attributes=[(str(i),'REAL') for i in range(120)]\n",
    "attributes.append(('label',['1', '0']))\n",
    "\n",
    "obj = {\n",
    "   'description': u'',\n",
    "   'relation': '1',\n",
    "   'attributes': attributes,\n",
    "   'data': data,\n",
    "}\n",
    "\"\"\""
   ]
  },
  {
   "cell_type": "markdown",
   "metadata": {},
   "source": [
    "# convert all labels"
   ]
  },
  {
   "cell_type": "code",
   "execution_count": null,
   "metadata": {},
   "outputs": [],
   "source": [
    ""
   ]
  }
 ],
 "metadata": {
  "kernelspec": {
   "display_name": "Python 3",
   "language": "python",
   "name": "python3"
  },
  "language_info": {
   "codemirror_mode": {
    "name": "ipython",
    "version": 3.0
   },
   "file_extension": ".py",
   "mimetype": "text/x-python",
   "name": "python",
   "nbconvert_exporter": "python",
   "pygments_lexer": "ipython3",
   "version": "3.6.4"
  }
 },
 "nbformat": 4,
 "nbformat_minor": 0
}