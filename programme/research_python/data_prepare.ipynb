{
 "cells": [
  {
   "cell_type": "code",
   "execution_count": 2,
   "metadata": {},
   "outputs": [],
   "source": [
    "import pandas as pd\n",
    "import numpy as np\n",
    "import nltk\n",
    "import re\n",
    "import os\n",
    "from nltk.tokenize import RegexpTokenizer \n",
    "from collections import Counter\n",
    "import arff\n",
    "from bs4 import BeautifulSoup\n",
    "import subprocess"
   ]
  },
  {
   "cell_type": "code",
   "execution_count": 3,
   "metadata": {},
   "outputs": [
    {
     "name": "stdout",
     "output_type": "stream",
     "text": [
      ".DS_Store\n",
      "._.DS_Store\n",
      "genbase\n",
      "medical\n",
      "scene\n",
      "yeast\n",
      "enron\n",
      "emotions\n",
      "bookmarks\n",
      "bibtex\n"
     ]
    }
   ],
   "source": [
    "for file in os.listdir(\"/Volumes/Samsung_T5/research/data/small_datasets/\"):\n",
    "    print(file)"
   ]
  },
  {
   "cell_type": "code",
   "execution_count": 4,
   "metadata": {},
   "outputs": [],
   "source": [
    "# get label\n",
    "def get_label(file):\n",
    "    with open(file, 'r') as f:\n",
    "        lines = f.read()\n",
    "        soup = BeautifulSoup(lines, 'lxml')\n",
    "        n_label = len(soup.find_all('label'))\n",
    "        \n",
    "        label_list = []\n",
    "        for label in soup.find_all('label'): \n",
    "            label_list.append(label.attrs['name'])\n",
    "        \n",
    "    return n_label, label_list\n",
    "\n",
    "def csv2arff(X, y, filePath):\n",
    "    # get attributes\n",
    "    print(\"num of labels:\",y.shape[1])\n",
    "    print(\"num of attributes:\",X.shape[1])\n",
    "    print(\"num of instances:\",X.shape[0])\n",
    "    \n",
    "    for z in range(len(y.columns)): # all labels\n",
    "        attributes=[(X.columns[i],['0', '1']) for i in range(len(X.columns))]\n",
    "        attributes.append(('label_'+y.columns[z],['0', '1']))\n",
    "\n",
    "        data=[]\n",
    "        i = 1\n",
    "        pos = 0\n",
    "        while i < y.shape[0]:\n",
    "            attr_data = [str(j) for j in list(X.iloc[i,:])]\n",
    "            label_data = [str(y.iloc[i,z])]\n",
    "            pos += y.iloc[i,z]\n",
    "            row_data = attr_data+label_data\n",
    "            data.append(row_data) \n",
    "            i += 1\n",
    "        # set obj\n",
    "        obj = {\n",
    "           'description': u'',\n",
    "           'relation': 'relation',\n",
    "           'attributes': attributes,\n",
    "           'data': data,\n",
    "        }\n",
    "\n",
    "        arff_data = arff.dumps(obj)\n",
    "        if os.path.isdir(os.path.join(filePath,\"arff_files/\")) != True:\n",
    "            subprocess.call('mkdir '+os.path.join(filePath,\"arff_files/\"),shell=True)\n",
    "        w_file = open(os.path.join(filePath,\"arff_files/\"+y.columns[z]+\".arff\"), \"w\")\n",
    "        print(\"writing:\",y.columns[z]+\".arff\", \"num of positive instance:\",pos)\n",
    "        w_file.write(arff_data)\n",
    "        w_file.close()\n",
    "    print(\"num of files:\",len(y.columns))"
   ]
  },
  {
   "cell_type": "markdown",
   "metadata": {},
   "source": [
    "# medical"
   ]
  },
  {
   "cell_type": "code",
   "execution_count": 7,
   "metadata": {},
   "outputs": [
    {
     "name": "stdout",
     "output_type": "stream",
     "text": [
      "num of labels: 45\n",
      "num of attributes: 1449\n",
      "num of instances: 978\n",
      "writing: Class-0-593_70.arff num of positive instance: 103\n",
      "writing: Class-1-079_99.arff num of positive instance: 11\n",
      "writing: Class-2-786_09.arff num of positive instance: 3\n",
      "writing: Class-3-759_89.arff num of positive instance: 2\n",
      "writing: Class-4-753_0.arff num of positive instance: 265\n",
      "writing: Class-5-786_2.arff num of positive instance: 1\n",
      "writing: Class-6-V72_5.arff num of positive instance: 1\n",
      "writing: Class-7-511_9.arff num of positive instance: 2\n",
      "writing: Class-8-596_8.arff num of positive instance: 1\n",
      "writing: Class-9-599_0.arff num of positive instance: 113\n",
      "writing: Class-10-518_0.arff num of positive instance: 16\n",
      "writing: Class-11-593_5.arff num of positive instance: 10\n",
      "writing: Class-12-V13_09.arff num of positive instance: 6\n",
      "writing: Class-13-791_0.arff num of positive instance: 2\n",
      "writing: Class-14-789_00.arff num of positive instance: 8\n",
      "writing: Class-15-593_1.arff num of positive instance: 2\n",
      "writing: Class-16-462.arff num of positive instance: 3\n",
      "writing: Class-17-592_0.arff num of positive instance: 8\n",
      "writing: Class-18-786_59.arff num of positive instance: 1\n",
      "writing: Class-19-785_6.arff num of positive instance: 6\n",
      "writing: Class-20-V67_09.arff num of positive instance: 1\n",
      "writing: Class-21-795_5.arff num of positive instance: 17\n",
      "writing: Class-22-789_09.arff num of positive instance: 4\n",
      "writing: Class-23-786_50.arff num of positive instance: 34\n",
      "writing: Class-24-596_54.arff num of positive instance: 49\n",
      "writing: Class-25-787_03.arff num of positive instance: 3\n",
      "writing: Class-26-V42_0.arff num of positive instance: 1\n",
      "writing: Class-27-786_05.arff num of positive instance: 4\n",
      "writing: Class-28-753_21.arff num of positive instance: 4\n",
      "writing: Class-29-783_0.arff num of positive instance: 1\n",
      "writing: Class-30-277_00.arff num of positive instance: 15\n",
      "writing: Class-31-780_6.arff num of positive instance: 70\n",
      "writing: Class-32-486.arff num of positive instance: 137\n",
      "writing: Class-33-788_41.arff num of positive instance: 1\n",
      "writing: Class-34-V13_02.arff num of positive instance: 23\n",
      "writing: Class-35-493_90.arff num of positive instance: 22\n",
      "writing: Class-36-788_30.arff num of positive instance: 43\n",
      "writing: Class-37-753_3.arff num of positive instance: 16\n",
      "writing: Class-38-593_89.arff num of positive instance: 34\n",
      "writing: Class-39-758_6.arff num of positive instance: 15\n",
      "writing: Class-40-741_90.arff num of positive instance: 1\n",
      "writing: Class-41-591.arff num of positive instance: 79\n",
      "writing: Class-42-599_7.arff num of positive instance: 1\n",
      "writing: Class-43-279_12.arff num of positive instance: 35\n",
      "writing: Class-44-786_07.arff num of positive instance: 43\n",
      "num of files: 45\n"
     ]
    }
   ],
   "source": [
    "filePath = '/Volumes/Samsung_T5/research/data/small_datasets/'\n",
    "dataset = 'medical'\n",
    "\n",
    "# get label\n",
    "file = os.path.join(filePath+dataset,dataset+'.xml')\n",
    "n_label, label_list = get_label(file)\n",
    "\n",
    "# get X, y\n",
    "file = os.path.join(filePath,dataset,dataset+'.csv')\n",
    "data = pd.read_csv(file)\n",
    "X = data.iloc[:,:-n_label]\n",
    "y = data.iloc[:,-n_label:]\n",
    "\n",
    "# csv2arff\n",
    "csv2arff(X, y, filePath+dataset)\n",
    "\n",
    "# save X,y\n",
    "X.to_csv(filePath+dataset+\"/X.csv\",index=False)\n",
    "y.to_csv(filePath+dataset+\"/y.csv\",index=False)"
   ]
  },
  {
   "cell_type": "code",
   "execution_count": 7,
   "metadata": {},
   "outputs": [],
   "source": [
    "for item in ['genbase','enron']:\n",
    "    filePath = '/Volumes/Samsung_T5/research/data/small_datasets/'\n",
    "    dataset = item\n",
    "\n",
    "    # get label\n",
    "    file = os.path.join(filePath+dataset,dataset+'.xml')\n",
    "    n_label, label_list = get_label(file)\n",
    "\n",
    "    # get X, y\n",
    "    file = os.path.join(filePath,dataset,dataset+'.csv')\n",
    "    data = pd.read_csv(file)\n",
    "    X = data.iloc[:,:-n_label]\n",
    "    y = data.iloc[:,-n_label:]\n",
    "\n",
    "    # save X,y\n",
    "    X.to_csv(filePath+dataset+\"/X.csv\",index=False)\n",
    "    y.to_csv(filePath+dataset+\"/y.csv\",index=False)"
   ]
  },
  {
   "cell_type": "code",
   "execution_count": null,
   "metadata": {},
   "outputs": [],
   "source": []
  }
 ],
 "metadata": {
  "kernelspec": {
   "display_name": "Python 3",
   "language": "python",
   "name": "python3"
  },
  "language_info": {
   "codemirror_mode": {
    "name": "ipython",
    "version": 3
   },
   "file_extension": ".py",
   "mimetype": "text/x-python",
   "name": "python",
   "nbconvert_exporter": "python",
   "pygments_lexer": "ipython3",
   "version": "3.6.4"
  },
  "toc": {
   "base_numbering": 1,
   "nav_menu": {},
   "number_sections": true,
   "sideBar": true,
   "skip_h1_title": false,
   "title_cell": "Table of Contents",
   "title_sidebar": "Contents",
   "toc_cell": false,
   "toc_position": {},
   "toc_section_display": true,
   "toc_window_display": false
  }
 },
 "nbformat": 4,
 "nbformat_minor": 2
}
