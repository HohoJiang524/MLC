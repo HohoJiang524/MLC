{
 "cells": [
  {
   "cell_type": "code",
   "execution_count": 3,
   "metadata": {},
   "outputs": [],
   "source": [
    "import os\n",
    "import re\n",
    "import pandas as pd\n",
    "import numpy as np\n",
    "import sys  \n",
    "\n",
    "import time\n",
    "\n",
    "from sklearn.metrics import coverage_error\n",
    "from sklearn.metrics import label_ranking_loss\n",
    "from sklearn.metrics import hamming_loss\n",
    "from sklearn.metrics import accuracy_score\n",
    "from sklearn import metrics\n",
    "from sklearn.metrics import zero_one_loss"
   ]
  },
  {
   "cell_type": "code",
   "execution_count": 8,
   "metadata": {},
   "outputs": [],
   "source": [
    "def get_result(resultPath):\n",
    "\n",
    "    y_pred = pd.DataFrame()\n",
    "    y_true = pd.DataFrame()\n",
    "    names = []\n",
    "    for file in os.listdir(resultPath):\n",
    "        with open(os.path.join(resultPath,file), 'r') as f:\n",
    "            try:\n",
    "                lines = f.readlines()\n",
    "            except:\n",
    "                print(file)\n",
    "            else:\n",
    "                names.append(file[:-4])\n",
    "                pred = []\n",
    "                true = []\n",
    "                train_time_total = 0\n",
    "                test_time_total = 0\n",
    "                error_marco = 0\n",
    "                for line in lines:\n",
    "                    if line.startswith('pred'):\n",
    "                        pred.append(int(re.search('pred :\\t(.)',line).group(1)))\n",
    "                        true.append(int(re.search('true :\\t(.)',line).group(1)))\n",
    "                    elif line.startswith('RSME'):\n",
    "                        rsme = float(re.search('RSME :\\t\\t(.*)',line).group(1))\n",
    "                    elif line.startswith('Error'):\n",
    "                        error = float(re.search('Error :\\t\\t(.*)',line).group(1))\n",
    "                        print(file,\":\",error)\n",
    "                    elif line.startswith(\"Training time\"):\n",
    "                        train_time = float(re.search('Training time :\\s{1,}(.*)',line).group(1))\n",
    "                        train_time_total = train_time_total + train_time\n",
    "                    elif line.startswith(\"Testing time\"):\n",
    "                        test_time = float(re.search('Testing time :\\s{1,}(.*)',line).group(1))\n",
    "                        test_time_total = test_time_total + test_time\n",
    "                    elif line.startswith(\"[\"):\n",
    "                        para = line\n",
    "                y_pred = pd.concat([y_pred,pd.DataFrame(pred)],axis=1)\n",
    "                y_true = pd.concat([y_true,pd.DataFrame(true)],axis=1)\n",
    "    #y_pred.columns = names\n",
    "    #y_true.columns = names\n",
    "    print(para)\n",
    "    print(\"number of label:\", y_pred.shape[1])\n",
    "    print(\"training time:\",train_time_total)\n",
    "    print(\"testing time:\",test_time_total)\n",
    "    return y_pred,y_true\n",
    "\n",
    "def evaluation(y_pred, y_true):\n",
    "    coverage = coverage_error(y_true, y_pred)\n",
    "    hamming = hamming_loss(y_true, y_pred)\n",
    "    ranking_loss = label_ranking_loss(y_true, y_pred)\n",
    "    \n",
    "    f1_macro = metrics.f1_score(y_true, y_pred, average='macro')\n",
    "    f1_micro = metrics.f1_score(y_true, y_pred, average='micro')\n",
    "    \n",
    "    acc = accuracy_score(y_true, y_pred) # 0-1 accuracy\n",
    "    zero_one = zero_one_loss(y_true, y_pred) # 0-1 error \n",
    "    \n",
    "    f1_each = metrics.f1_score(y_true, y_pred, average=None)\n",
    "    \n",
    "    \n",
    "    performance = {\"coverage_error\":coverage,\n",
    "                   \"ranking_loss\":ranking_loss,\n",
    "                   \"hamming_loss\":hamming,\n",
    "                   \"f1_macro\":f1_macro,\n",
    "                   \"f1_micro\":f1_micro,\n",
    "                   \"accuracy\":acc,\n",
    "                   \"zero_one_error\":zero_one,\n",
    "                   \"f1_each_label\":f1_each}\n",
    "    return performance"
   ]
  },
  {
   "cell_type": "markdown",
   "metadata": {},
   "source": [
    "# obesity"
   ]
  },
  {
   "cell_type": "code",
   "execution_count": 9,
   "metadata": {
    "scrolled": true
   },
   "outputs": [
    {
     "name": "stdout",
     "output_type": "stream",
     "text": [
      "act.txt : 0.0404\n",
      "advertising-and-marketing.txt : 0.0337\n",
      "advertising.txt : 0.0292\n",
      "australia.txt : 0.3393\n",
      "business-economics-and-finance.txt : 0.0494\n",
      "cancer.txt : 0.0292\n",
      "child-health-and-behaviour.txt : 0.1461\n",
      "children.txt : 0.0764\n",
      "community-and-society.txt : 0.0697\n",
      "diabetes.txt : 0.0697\n",
      "diet-and-nutrition.txt : 0.1438\n",
      "diseases-and-disorders.txt : 0.0809\n",
      "doctors-and-medical-professionals.txt : 0.0472\n",
      "education.txt : 0.0202\n",
      "exercise-and-fitness.txt : 0.0674\n",
      "family-and-children.txt : 0.027\n",
      "federal---state-issues.txt : 0.036\n",
      "federal-government.txt : 0.0966\n",
      "food-and-beverage.txt : 0.0404\n",
      "government-and-politics.txt : 0.0944\n",
      "health-policy.txt : 0.0449\n",
      "health.txt : 0.3618\n",
      "healthcare-facilities.txt : 0.0517\n",
      "heart-disease.txt : 0.0247\n",
      "indigenous-aboriginal-and-torres-strait-islander.txt : 0.036\n",
      "industry.txt : 0.0382\n",
      "lifestyle-and-leisure.txt : 0.0315\n",
      "medical-research.txt : 0.1124\n",
      "nsw.txt : 0.0674\n",
      "obesity.txt : 0.3708\n",
      "qld.txt : 0.0494\n",
      "research.txt : 0.0809\n",
      "sa.txt : 0.0494\n",
      "schools.txt : 0.0315\n",
      "science-and-technology.txt : 0.027\n",
      "smoking.txt : 0.0337\n",
      "states-and-territories.txt : 0.1146\n",
      "tas.txt : 0.0337\n",
      "united-kingdom.txt : 0.0449\n",
      "united-states.txt : 0.0764\n",
      "vic.txt : 0.0607\n",
      "wa.txt : 0.0449\n",
      "._act.txt\n",
      "._advertising.txt\n",
      "[-t, /Volumes/Samsung_T5/research/data/ABC_news_data/obesity/all_label//wa.arff, -S, ESKDB, -K, 5, -I, 5000, -L, 2, -E, 5, -V, -M]\n",
      "\n",
      "number of label: 42\n",
      "training time: 775.0\n",
      "testing time: 202.0\n"
     ]
    },
    {
     "data": {
      "text/plain": [
       "{'accuracy': 0.056179775280898875,\n",
       " 'coverage_error': 37.21123595505618,\n",
       " 'f1_each_label': array([0.1       , 0.34782609, 0.23529412, 0.50165017, 0.08333333,\n",
       "        0.13333333, 0.08450704, 0.10526316, 0.        , 0.16216216,\n",
       "        0.05882353, 0.05263158, 0.32258065, 0.        , 0.16666667,\n",
       "        0.14285714, 0.11111111, 0.08510638, 0.35714286, 0.04545455,\n",
       "        0.23076923, 0.37837838, 0.08      , 0.26666667, 0.        ,\n",
       "        0.10526316, 0.        , 0.21875   , 0.16666667, 0.62585034,\n",
       "        0.35294118, 0.18181818, 0.08333333, 0.3       , 0.14285714,\n",
       "        0.        , 0.19047619, 0.        , 0.        , 0.52777778,\n",
       "        0.        , 0.        ]),\n",
       " 'f1_macro': 0.16541171670413302,\n",
       " 'f1_micro': 0.32619589977220953,\n",
       " 'hamming_loss': 0.07913322632423755,\n",
       " 'ranking_loss': 0.7038889817691952,\n",
       " 'zero_one_error': 0.9438202247191011}"
      ]
     },
     "execution_count": 9,
     "metadata": {},
     "output_type": "execute_result"
    }
   ],
   "source": [
    "resultPath = '/Volumes/Samsung_T5/research/programme/ESKDB_HDP/result/obesity_k5_e5/'\n",
    "y_pred,y_true = get_result(resultPath)\n",
    "result = evaluation(y_pred=y_pred, y_true=y_true)\n",
    "result\n",
    "#print(\"--- result ---\")\n",
    "#print(\"coverage_error:\",result[0])\n",
    "#print(\"hamming_loss:\",result[1])\n",
    "#print(\"ranking_loss:\",result[2])\n",
    "#print(\"f1_macro:\",result[3])\n",
    "#print(\"0/1 loss:\",result[4])\n",
    "#print(\"accuracy_marco:\",result[5])"
   ]
  },
  {
   "cell_type": "code",
   "execution_count": 11,
   "metadata": {},
   "outputs": [
    {
     "name": "stdout",
     "output_type": "stream",
     "text": [
      "act.txt : 0.0382\n",
      "advertising-and-marketing.txt : 0.036\n",
      "advertising.txt : 0.0337\n",
      "australia.txt : 0.3506\n",
      "business-economics-and-finance.txt : 0.0607\n",
      "cancer.txt : 0.0225\n",
      "child-health-and-behaviour.txt : 0.1551\n",
      "children.txt : 0.0809\n",
      "community-and-society.txt : 0.0764\n",
      "diabetes.txt : 0.0674\n",
      "diet-and-nutrition.txt : 0.1528\n",
      "diseases-and-disorders.txt : 0.0742\n",
      "doctors-and-medical-professionals.txt : 0.0629\n",
      "education.txt : 0.0202\n",
      "exercise-and-fitness.txt : 0.0652\n",
      "family-and-children.txt : 0.0292\n",
      "federal---state-issues.txt : 0.0382\n",
      "federal-government.txt : 0.0989\n",
      "food-and-beverage.txt : 0.0472\n",
      "government-and-politics.txt : 0.0899\n",
      "health-policy.txt : 0.0449\n",
      "health.txt : 0.3596\n",
      "healthcare-facilities.txt : 0.0494\n",
      "heart-disease.txt : 0.0337\n",
      "indigenous-aboriginal-and-torres-strait-islander.txt : 0.0404\n",
      "industry.txt : 0.0292\n",
      "lifestyle-and-leisure.txt : 0.0449\n",
      "medical-research.txt : 0.1124\n",
      "nsw.txt : 0.0674\n",
      "obesity.txt : 0.3933\n",
      "qld.txt : 0.0472\n",
      "research.txt : 0.0764\n",
      "sa.txt : 0.0494\n",
      "schools.txt : 0.036\n",
      "science-and-technology.txt : 0.0315\n",
      "smoking.txt : 0.0315\n",
      "states-and-territories.txt : 0.1079\n",
      "tas.txt : 0.0382\n",
      "united-kingdom.txt : 0.0404\n",
      "united-states.txt : 0.0742\n",
      "vic.txt : 0.0607\n",
      "wa.txt : 0.0449\n",
      "[-t, /Volumes/Samsung_T5/research/data/ABC_news_data/obesity/all_label//wa.arff, -S, ESKDB, -K, 5, -I, 1000, -L, 2, -E, 2, -V, -M]\n",
      "\n",
      "number of label: 42\n",
      "training time: 481.0\n",
      "testing time: 162.0\n"
     ]
    },
    {
     "data": {
      "text/plain": [
       "{'accuracy': 0.04719101123595506,\n",
       " 'coverage_error': 36.78876404494382,\n",
       " 'f1_each_label': array([0.26086957, 0.2       , 0.28571429, 0.50318471, 0.12903226,\n",
       "        0.28571429, 0.1038961 , 0.14285714, 0.10526316, 0.28571429,\n",
       "        0.08108108, 0.10810811, 0.22222222, 0.        , 0.12121212,\n",
       "        0.23529412, 0.10526316, 0.12      , 0.32258065, 0.04761905,\n",
       "        0.23076923, 0.39393939, 0.08333333, 0.21052632, 0.        ,\n",
       "        0.13333333, 0.        , 0.19354839, 0.16666667, 0.59770115,\n",
       "        0.4       , 0.29166667, 0.15384615, 0.2       , 0.125     ,\n",
       "        0.        , 0.27272727, 0.        , 0.1       , 0.59259259,\n",
       "        0.        , 0.        ]),\n",
       " 'f1_macro': 0.18598278084715214,\n",
       " 'f1_micro': 0.33347959631417284,\n",
       " 'hamming_loss': 0.08127340823970038,\n",
       " 'ranking_loss': 0.6838221300843758,\n",
       " 'zero_one_error': 0.952808988764045}"
      ]
     },
     "execution_count": 11,
     "metadata": {},
     "output_type": "execute_result"
    }
   ],
   "source": [
    "resultPath = '/Volumes/Samsung_T5/research/programme/ESKDB_HDP/result/test/'\n",
    "y_pred,y_true = get_result(resultPath)\n",
    "result = evaluation(y_pred=y_pred, y_true=y_true)\n",
    "result"
   ]
  },
  {
   "cell_type": "markdown",
   "metadata": {},
   "source": [
    "# medical"
   ]
  },
  {
   "cell_type": "code",
   "execution_count": 10,
   "metadata": {},
   "outputs": [
    {
     "name": "stdout",
     "output_type": "stream",
     "text": [
      "Class-0-593_70.txt : 0.0307\n",
      "Class-1-079_99.txt : 0.0\n",
      "Class-10-518_0.txt : 0.0164\n",
      "Class-11-593_5.txt : 0.0143\n",
      "Class-12-V13_09.txt : 0.0082\n",
      "Class-13-791_0.txt : 0.0\n",
      "Class-14-789_00.txt : 0.0041\n",
      "Class-17-592_0.txt : 0.0123\n",
      "Class-19-785_6.txt : 0.0082\n",
      "Class-2-786_09.txt : 0.0\n",
      "Class-21-795_5.txt : 0.0\n",
      "Class-22-789_09.txt : 0.0061\n",
      "Class-23-786_50.txt : 0.0143\n",
      "Class-24-596_54.txt : 0.0\n",
      "Class-27-786_05.txt : 0.0\n",
      "Class-28-753_21.txt : 0.0041\n",
      "Class-3-759_89.txt : 0.0\n",
      "Class-30-277_00.txt : 0.0\n",
      "Class-31-780_6.txt : 0.0613\n",
      "Class-32-486.txt : 0.0511\n",
      "Class-33-788_41.txt : 0.0\n",
      "Class-34-V13_02.txt : 0.0204\n",
      "Class-35-493_90.txt : 0.0245\n",
      "Class-36-788_30.txt : 0.0327\n",
      "Class-37-753_3.txt : 0.0164\n",
      "Class-38-593_89.txt : 0.0061\n",
      "Class-39-758_6.txt : 0.0082\n",
      "Class-4-753_0.txt : 0.0532\n",
      "Class-40-741_90.txt : 0.0\n",
      "Class-41-591.txt : 0.0389\n",
      "Class-42-599_7.txt : 0.0\n",
      "Class-43-279_12.txt : 0.002\n",
      "Class-44-786_07.txt : 0.0143\n",
      "Class-7-511_9.txt : 0.0\n",
      "Class-9-599_0.txt : 0.0552\n",
      "[-t, /Volumes/Samsung_T5/research/data/small_datasets/medical/arff_files//Class-9-599_0.arff, -S, ESKDB, -K, 5, -I, 5000, -L, 2, -E, 5, -V, -M]\n",
      "\n",
      "number of label: 35\n",
      "training time: 5672.0\n",
      "testing time: 530.0\n"
     ]
    },
    {
     "name": "stderr",
     "output_type": "stream",
     "text": [
      "/Users/jiangjunhao/anaconda3/lib/python3.6/site-packages/sklearn/metrics/classification.py:1135: UndefinedMetricWarning: F-score is ill-defined and being set to 0.0 in labels with no predicted samples.\n",
      "  'precision', 'predicted', average, warn_for)\n",
      "/Users/jiangjunhao/anaconda3/lib/python3.6/site-packages/sklearn/metrics/classification.py:1137: UndefinedMetricWarning: F-score is ill-defined and being set to 0.0 in labels with no true samples.\n",
      "  'recall', 'true', average, warn_for)\n"
     ]
    },
    {
     "data": {
      "text/plain": [
       "{'accuracy': 0.621676891615542,\n",
       " 'coverage_error': 11.100204498977504,\n",
       " 'f1_each_label': array([0.85436893, 1.        , 0.2       , 0.        , 0.        ,\n",
       "        1.        , 0.66666667, 0.        , 0.        , 0.        ,\n",
       "        1.        , 0.4       , 0.75862069, 1.        , 1.        ,\n",
       "        0.        , 0.        , 1.        , 0.53125   , 0.81203008,\n",
       "        0.        , 0.44444444, 0.14285714, 0.61904762, 0.33333333,\n",
       "        0.90909091, 0.71428571, 0.90510949, 0.        , 0.77647059,\n",
       "        0.        , 0.96774194, 0.82926829, 0.        , 0.75229358]),\n",
       " 'f1_macro': 0.5033394117155041,\n",
       " 'f1_micro': 0.7834507042253521,\n",
       " 'hamming_loss': 0.014373356704645047,\n",
       " 'ranking_loss': 0.25558259881383305,\n",
       " 'zero_one_error': 0.37832310838445804}"
      ]
     },
     "execution_count": 10,
     "metadata": {},
     "output_type": "execute_result"
    }
   ],
   "source": [
    "resultPath = '/Volumes/Samsung_T5/research/programme/ESKDB_HDP/result/medical/'\n",
    "y_pred,y_true = get_result(resultPath)\n",
    "result = evaluation(y_pred=y_pred, y_true=y_true)\n",
    "result"
   ]
  },
  {
   "cell_type": "code",
   "execution_count": 5,
   "metadata": {},
   "outputs": [
    {
     "data": {
      "text/plain": [
       "(489, 35)"
      ]
     },
     "execution_count": 5,
     "metadata": {},
     "output_type": "execute_result"
    }
   ],
   "source": [
    "y_pred.shape"
   ]
  },
  {
   "cell_type": "code",
   "execution_count": null,
   "metadata": {},
   "outputs": [],
   "source": []
  }
 ],
 "metadata": {
  "kernelspec": {
   "display_name": "Python 3",
   "language": "python",
   "name": "python3"
  },
  "language_info": {
   "codemirror_mode": {
    "name": "ipython",
    "version": 3
   },
   "file_extension": ".py",
   "mimetype": "text/x-python",
   "name": "python",
   "nbconvert_exporter": "python",
   "pygments_lexer": "ipython3",
   "version": "3.6.4"
  },
  "toc": {
   "base_numbering": 1,
   "nav_menu": {},
   "number_sections": true,
   "sideBar": true,
   "skip_h1_title": false,
   "title_cell": "Table of Contents",
   "title_sidebar": "Contents",
   "toc_cell": false,
   "toc_position": {},
   "toc_section_display": true,
   "toc_window_display": false
  }
 },
 "nbformat": 4,
 "nbformat_minor": 2
}
