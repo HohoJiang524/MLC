{
 "cells": [
  {
   "cell_type": "code",
   "execution_count": 71,
   "metadata": {},
   "outputs": [],
   "source": [
    "import pandas as pd\n",
    "import numpy as np\n",
    "import os\n",
    "import time\n",
    "import subprocess\n",
    "import re\n",
    "import random\n",
    "import arff\n",
    "\n",
    "from pomegranate import BayesianNetwork\n",
    "from math import sqrt\n",
    "from sklearn.model_selection import  train_test_split\n",
    "from sklearn.model_selection import KFold\n",
    "from sklearn.naive_bayes import MultinomialNB  \n",
    "from sklearn.metrics import classification_report\n",
    "from sklearn.metrics import coverage_error\n",
    "from sklearn.metrics import label_ranking_loss\n",
    "from sklearn.metrics import hamming_loss\n",
    "from sklearn.metrics import accuracy_score\n",
    "from sklearn import metrics\n",
    "from sklearn.metrics import zero_one_loss\n",
    "from sklearn.metrics import jaccard_similarity_score"
   ]
  },
  {
   "cell_type": "markdown",
   "metadata": {},
   "source": [
    "# Tree"
   ]
  },
  {
   "cell_type": "code",
   "execution_count": 108,
   "metadata": {},
   "outputs": [],
   "source": [
    "def read_data(dataPath, X_file, y_file):\n",
    "    # input: '/Volumes/Samsung_T5/research/data/ABC_news_data/obesity/'\n",
    "    # read data\n",
    "    data = pd.read_csv(os.path.join(dataPath,X_file))\n",
    "    label = pd.read_csv(os.path.join(dataPath,y_file))\n",
    "    return data,label\n",
    "\n",
    "def get_structure(model, labels):\n",
    "    dic = {}\n",
    "    for item, attr in zip(model.structure, labels):\n",
    "        if item == ():\n",
    "            dic[attr] = {}\n",
    "        else:\n",
    "            dic[attr] = set(labels[list(item)])\n",
    "    return dic\n",
    "\n",
    "#Python program to print topological sorting of a DAG \n",
    "from collections import defaultdict \n",
    "    \n",
    "def get_order(model, labels):\n",
    "    \n",
    "    g = Graph(len(labels))\n",
    "    for item, i in zip(model.structure, range(len(labels))):\n",
    "        if item == ():\n",
    "            pass\n",
    "        else:\n",
    "            g.addEdge(i, list(item))\n",
    "    \n",
    "    # get order\n",
    "    a = g.topologicalSort()\n",
    "    a.reverse()\n",
    "\n",
    "    return label_list[a]\n"
   ]
  },
  {
   "cell_type": "code",
   "execution_count": 90,
   "metadata": {},
   "outputs": [
    {
     "name": "stdout",
     "output_type": "stream",
     "text": [
      "emotions\n",
      "Chow-liu Tree\n",
      "{'amazed-suprised': [], 'happy-pleased': {'sad-lonely'}, 'relaxing-calm': {'amazed-suprised'}, 'quiet-still': {'amazed-suprised'}, 'sad-lonely': {'quiet-still'}, 'angry-aggresive': {'relaxing-calm'}}\n"
     ]
    },
    {
     "data": {
      "image/png": "[encoded data removed]",
      "text/plain": [
       "<matplotlib.figure.Figure at 0x1a1d701cf8>"
      ]
     },
     "metadata": {},
     "output_type": "display_data"
    }
   ],
   "source": [
    "dataset = \"emotions\"\n",
    "print(dataset)\n",
    "dataPath = '/Volumes/Samsung_T5/research/data/small_datasets/'+dataset+\"/\"\n",
    "X_file = \"X.csv\"\n",
    "y_file = \"y.csv\"\n",
    "\n",
    "data, label = read_data(dataPath, X_file, y_file) # read data\n",
    "label_list = label.columns \n",
    "\n",
    "model = BayesianNetwork.from_samples(label, algorithm='chow-liu')\n",
    "bayes_bet = get_structure(model, label_list)\n",
    "print(\"Chow-liu Tree\")\n",
    "print(bayes_bet)\n",
    "model.plot()"
   ]
  },
  {
   "cell_type": "markdown",
   "metadata": {},
   "source": [
    "# DAG"
   ]
  },
  {
   "cell_type": "code",
   "execution_count": 102,
   "metadata": {},
   "outputs": [
    {
     "name": "stdout",
     "output_type": "stream",
     "text": [
      "DAG\n",
      "{'amazed-suprised': {'relaxing-calm'}, 'happy-pleased': {'angry-aggresive', 'quiet-still', 'sad-lonely'}, 'relaxing-calm': [], 'quiet-still': {'amazed-suprised', 'angry-aggresive'}, 'sad-lonely': {'amazed-suprised', 'quiet-still'}, 'angry-aggresive': {'relaxing-calm'}}\n"
     ]
    },
    {
     "data": {
      "image/png": "[encoded data removed]",
      "text/plain": [
       "<matplotlib.figure.Figure at 0x1110e64e0>"
      ]
     },
     "metadata": {},
     "output_type": "display_data"
    }
   ],
   "source": [
    "model = BayesianNetwork.from_samples(label, algorithm='exact-dp')\n",
    "bayes_bet = get_structure(model, label_list)\n",
    "print(\"DAG\")\n",
    "print(bayes_bet)\n",
    "model.plot()"
   ]
  },
  {
   "cell_type": "code",
   "execution_count": 109,
   "metadata": {},
   "outputs": [],
   "source": [
    "def get_order(model, labels):\n",
    "    \n",
    "    g = Graph(len(labels))\n",
    "    for item, i in zip(model.structure, range(len(labels))):\n",
    "        if item == ():\n",
    "            pass\n",
    "        else:\n",
    "            g.addEdge(i, list(item))\n",
    "    \n",
    "    # get order\n",
    "    a = g.topologicalSort()\n",
    "    a.reverse()\n",
    "\n",
    "    return label_list[a]"
   ]
  },
  {
   "cell_type": "code",
   "execution_count": 110,
   "metadata": {},
   "outputs": [
    {
     "data": {
      "text/plain": [
       "Index(['relaxing-calm', 'amazed-suprised', 'angry-aggresive', 'quiet-still',\n",
       "       'sad-lonely', 'happy-pleased'],\n",
       "      dtype='object')"
      ]
     },
     "execution_count": 110,
     "metadata": {},
     "output_type": "execute_result"
    }
   ],
   "source": [
    "get_order(model, label.columns)"
   ]
  },
  {
   "cell_type": "code",
   "execution_count": null,
   "metadata": {},
   "outputs": [],
   "source": []
  }
 ],
 "metadata": {
  "kernelspec": {
   "display_name": "Python 3",
   "language": "python",
   "name": "python3"
  },
  "language_info": {
   "codemirror_mode": {
    "name": "ipython",
    "version": 3
   },
   "file_extension": ".py",
   "mimetype": "text/x-python",
   "name": "python",
   "nbconvert_exporter": "python",
   "pygments_lexer": "ipython3",
   "version": "3.6.2"
  },
  "toc": {
   "base_numbering": 1,
   "nav_menu": {},
   "number_sections": true,
   "sideBar": true,
   "skip_h1_title": false,
   "title_cell": "Table of Contents",
   "title_sidebar": "Contents",
   "toc_cell": false,
   "toc_position": {},
   "toc_section_display": true,
   "toc_window_display": false
  }
 },
 "nbformat": 4,
 "nbformat_minor": 2
}
